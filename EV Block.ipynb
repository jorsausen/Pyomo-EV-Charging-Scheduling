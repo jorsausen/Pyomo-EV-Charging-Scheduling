{
 "cells": [
  {
   "cell_type": "markdown",
   "metadata": {},
   "source": [
    "## EV Block\n",
    "This class defines variables and parameters for Electric Vehicles (EVs), whereas specific characteristic of each EV is defined by dictionary data on data file (data.py).\n",
    "    \n",
    "Battery limitations, degradation costs as well as variables calculation for optimization are all described by Constraints."
   ]
  },
  {
   "cell_type": "code",
   "execution_count": 2,
   "metadata": {},
   "outputs": [],
   "source": [
    "from pyomo.environ import *\n",
    "#from PL import C\n",
    "#from data import *\n",
    "\n",
    "#m.time    = Set(initialize=(0,288))\n",
    "#m.ev      = Set(initialize=(0,5))\n",
    "\n",
    "class EV:\n",
    "           \n",
    "    def __init__(self, *args, **kwds):\n",
    "        \n",
    "        self.Bcap   = Param(self.ev, default=Bcap,  doc='Battery capacity',             mutable=True)\n",
    "        self.Pmax   = Param(self.ev, default=Pmax,  doc='Maximum charging power',       mutalbe=True)\n",
    "        self.SoCi   = Param(self.ev, default=SoCi,  doc='Initial State of Charge (SoC)',mutable=True)\n",
    "        self.SoCf   = Param(self.ev, default=SoCf,  doc='Final State of Charge (SoC)',  mutable=True)\n",
    "        self.arr    = Param(self.ev, default=arr,   doc='Arrival time',                 mutable=True)\n",
    "        self.dep    = Param(self.ev, default=dep,   doc='Departure time',               mutable=True)\n",
    "        self.ef     = Param(default=ef,             doc='Charging efficiency',          mutable=True)\n",
    "        self.Ts     = Param(default=Ts,             doc='Time sample',                  mutable=True)\n",
    "            \n",
    "        self.a      = Var(self.ev, self.time,       doc='Connection status',            initialize=0, within=Binary)      \n",
    "        self.SoC    = Var(self.ev, self.time,       doc='SoC at each time step',        initialize=0)           \n",
    "        self.Cdeg   = Var(self.ev, self.time,       doc='Degradation cost',             initialize=0)              \n",
    "        self.roC    = Var(self.ev, self.time,       doc='Charging priority index',      initialize=0)                  \n",
    "        self.yC     = Var(self.ev, self.time,       doc='Degradation cost index',       initialize=0)                 \n",
    "#       self.C      = Var(self.ev, self.time,       doc='Charging rate',                initialize=0) # From objective function! C is my decision variable.\n"
   ]
  },
  {
   "attachments": {
    "image.png": {
     "image/png": "[encoded data removed]"
    }
   },
   "cell_type": "markdown",
   "metadata": {},
   "source": [
    "### 1. Variables calculation:\n",
    "#### 1.1 Maximum Degradation Cost Calculation:\n",
    "![image.png](attachment:image.png)\n",
    "Is well known from the equation above that the maximum battery degradation cost occurs with 100% SoC. But, due to the model cost adopted, if the battery is above 98% SoC, the resulting value is not Real. So the maximum battery degradation cost is calculated for 98% SoC."
   ]
  },
  {
   "cell_type": "code",
   "execution_count": 3,
   "metadata": {},
   "outputs": [
    {
     "ename": "IndentationError",
     "evalue": "unexpected indent (<ipython-input-3-75c2b8876cb9>, line 2)",
     "output_type": "error",
     "traceback": [
      "\u001b[1;36m  File \u001b[1;32m\"<ipython-input-3-75c2b8876cb9>\"\u001b[1;36m, line \u001b[1;32m2\u001b[0m\n\u001b[1;33m    def _Cdeg_max(m, n):\u001b[0m\n\u001b[1;37m    ^\u001b[0m\n\u001b[1;31mIndentationError\u001b[0m\u001b[1;31m:\u001b[0m unexpected indent\n"
     ]
    }
   ],
   "source": [
    "#--------------Cálculo do Custo de Degradação máximo----------------#        # VE \"n\"\n",
    "    def _Cdeg_max(m, n):\n",
    "        m.Cdeg_max[n] = ((-(0.05*m.Pmax[n]**2)/(0.795*m.Bcap[n]))*\\\n",
    "        (((1-0.98-((m.Pmax[n]/m.Bcap[n])*m.Ts))**0.795)-((1-0.98)**0.795)) for n in m.ev)"
   ]
  },
  {
   "cell_type": "markdown",
   "metadata": {},
   "source": [
    "#### 1.2. Minimum Degradation Cost Calculation:\n",
    "The same equation is used, but instead, 0% SoC is considered:"
   ]
  },
  {
   "cell_type": "code",
   "execution_count": 4,
   "metadata": {},
   "outputs": [
    {
     "ename": "IndentationError",
     "evalue": "unexpected indent (<ipython-input-4-7e243a93eb79>, line 2)",
     "output_type": "error",
     "traceback": [
      "\u001b[1;36m  File \u001b[1;32m\"<ipython-input-4-7e243a93eb79>\"\u001b[1;36m, line \u001b[1;32m2\u001b[0m\n\u001b[1;33m    def _Cdeg_min(m, n):\u001b[0m\n\u001b[1;37m    ^\u001b[0m\n\u001b[1;31mIndentationError\u001b[0m\u001b[1;31m:\u001b[0m unexpected indent\n"
     ]
    }
   ],
   "source": [
    "#---------------Cálculo do Custo de Degradação mínimo---------------#\n",
    "    def _Cdeg_min(m, n):\n",
    "        m.Cdeg_min[n] = ((-(0.05*m.Pmax[n]**2)/(0.795*m.Bcap[n]))*\\\n",
    "        (((1-0-((m.Pmax[n]/m.Bcap[n])*m.Ts))**0.795)-((1-0)**0.795)) for n in m.ev)"
   ]
  },
  {
   "cell_type": "markdown",
   "metadata": {},
   "source": [
    "#### 1.3. Initial Degradation Cost Calculation:\n",
    "Based on the initial SoC of EV \"n\" (according to data.py), the initial degradation cost is calculated using again the same equation. But instead, the initial SoC is used (SoCi[n])."
   ]
  },
  {
   "cell_type": "code",
   "execution_count": null,
   "metadata": {},
   "outputs": [],
   "source": [
    "#---------------Cálculo do Custo de Degradação inicial--------------#     \n",
    "    def _Cdegi(m, n):\n",
    "        m.Cdegi[n] = ((-(0.05*m.Pmax[n]**2)/(0.795*m.Bcap[n]))*\\\n",
    "        (((1-m.SoCi[n]-((m.Pmax[n]/m.Bcap[n])*m.Ts))**0.795)-\\\n",
    "             ((1-m.SoCi[n])**0.795)) for n in m.ev)"
   ]
  },
  {
   "cell_type": "markdown",
   "metadata": {},
   "source": [
    "These degradations costs will be later used to calculate the Degradation Cost Index yC[n,t], since they depend exclusively on input data."
   ]
  },
  {
   "attachments": {
    "image.png": {
     "image/png": "[encoded data removed]"
    }
   },
   "cell_type": "markdown",
   "metadata": {},
   "source": [
    "#### 1.4. Binary Variable - EV Connection Status:\n",
    "A binary variable is used to indicate the connection status of each EV \"n\" as a Constraint of the optimization problem. It receives 1 or True if EV is connected, 0 or False otherwise. This variable definition is based on the arrival and departure times of each EV \"n\" during the time index T(0,288).\n",
    "![image.png](attachment:image.png)\n",
    "In other words, if the current time index [t] is between arrival and departure time, the binary variable is True. Otherwise, if the current time index [t] is less than arrival time or higher than departure time, is False.\n",
    "For each EV \"n\" and for each time index \"t\", the variable a[n,t] is calculated as a Constraint of the optimization problem:"
   ]
  },
  {
   "cell_type": "code",
   "execution_count": null,
   "metadata": {},
   "outputs": [],
   "source": [
    "#----------Parâmetro binário: status de conexão do VE \"n\"------------#        \n",
    "    def alpha(m, n, t):\n",
    "        if (t >= m.arr.value[n] and m.dep.value[n] >= t for n in m.ev for t in m.time):\n",
    "            return (m.a[n,t] == True for n in m.ev for t in m.time)\n",
    "        else:\n",
    "            return (m.a[n,t] == False for n in m.ev for t in m.time)   \n",
    "        return Constraint.Skip"
   ]
  },
  {
   "cell_type": "markdown",
   "metadata": {},
   "source": [
    "#### 1.5. Charging rate constraint:\n",
    "\n",
    "The charging rate must be constrained by the binary variable that represent the EV connection status:"
   ]
  },
  {
   "cell_type": "code",
   "execution_count": null,
   "metadata": {},
   "outputs": [],
   "source": [
    "#----------------Restrição de taxa de carregamento-------------------#\n",
    "    def _C(m, n, t):\n",
    "        return (m.C[n,t] <= m.a[n,t] for n in m.ev for t in m.time)\n",
    "    # OBS m.C[n,t] is from optimization (charging rate = decision variable)"
   ]
  },
  {
   "cell_type": "markdown",
   "metadata": {},
   "source": [
    "#### 1.6. EV Power Limitation:\n",
    "In accordance with each EV characteristic, a maximum charging power constraint must be defined. At aeach timestep \"t\", the result of multiplication between the charging rate C[n,t] defined in optimization and the maximum acceptable power by the EV \"n\" defined by data file (data.py) must be equal or less than the maximum power accepted by the vehicle."
   ]
  },
  {
   "cell_type": "code",
   "execution_count": null,
   "metadata": {},
   "outputs": [],
   "source": [
    "#------------------Limite de potência VE-----------------------------#\n",
    "    def _Pmax_EV (m, n, t):\n",
    "        return (m.C[n,t]*m.Pmax[n] <= m.Pmax[n] for n in m.ev for t in m.time)\n",
    "            # OBS m.C[n,t] is from optimization (charging rate = decision variable)"
   ]
  },
  {
   "cell_type": "markdown",
   "metadata": {},
   "source": [
    "##### Here comes the first important question: It is possible to use a variable from the Parking Lot Block?\n",
    "I need to use the decision variable C[n,j] to calculate the power provided for the EV at each timestep. Which mens that the value defined by optimization must be used to satisfy this constraint.\n",
    "\n",
    "This question also applies for the later use of C[n,j] variable above."
   ]
  },
  {
   "attachments": {
    "image.png": {
     "image/png": "[encoded data removed]"
    }
   },
   "cell_type": "markdown",
   "metadata": {},
   "source": [
    "#### 1.6. SoC calculation:\n",
    "For each EV \"n\" and at each timestep \"t\" the SoC must be calculated. This is the most important variable for optimization, since it defines other important variables. \n",
    "If the current timestep \"t\" is equal to the arrival time of EV \"n\", then the current SoC (SoC[n,t]) is equal to the initial SoC defined in data file (SoCi[n]).\n",
    "For the later timesteps, the calculation is done according to the equation below:\n",
    "![image.png](attachment:image.png)\n",
    "It is considered the SoC of the timestep [t-1] plus the new SoC based on EV characteristics from (data.py):"
   ]
  },
  {
   "cell_type": "code",
   "execution_count": null,
   "metadata": {},
   "outputs": [],
   "source": [
    "#----------------------Cálculo do SoC do VE \"n\"----------------------#        \n",
    "    def _SoC(m, n, t):\n",
    "        if (t == m.arr.value[n] for n in m.ev for t in m.time):\n",
    "            return (m.SoC[n,t] == m.SoCi[n] for n in m.ev for t in m.time)\n",
    "        elif m.a[n,t] is True:\n",
    "            return (m.SoC[n,t] == ((m.SoC[n,t-1] + m.ef*m.Pmax[n]*m.C[n,t]\\\n",
    "                                    *m.Ta))/m.Bcap[n] for n in m.ev for t in m.time)\n",
    "                # OBS m.C[n,t] is from optimization\n",
    "        else:\n",
    "            return Constraint.Skip"
   ]
  },
  {
   "cell_type": "markdown",
   "metadata": {},
   "source": [
    "#### 1.7. Maximum, minumim and departure SoC:\n",
    "Maximum and minimum SoC limitations are imposed for each EV \"n\" at each timestep \"t\". Another Constraint is related to the desired departure SoC by the user."
   ]
  },
  {
   "cell_type": "code",
   "execution_count": null,
   "metadata": {},
   "outputs": [],
   "source": [
    "#------------------------SoC máximo----------------------------------#\n",
    "    def _SoC_max (m, n, t):\n",
    "        return (m.SoC[n,t] <= 1.0 for n in m.ev for t in m.time)\n",
    "\n",
    "#------------------------SoC mínimo----------------------------------#\n",
    "    def _SoC_min (m, n, j):                                           \n",
    "        return (m.SoC[n,t] >= 0.0 for n in m.ev for t in m.time)\n",
    "\n",
    "#------------------SoC desejado na partida---------------------------#\n",
    "    def _SoC_dep (m, n, j):\n",
    "        if (m.dep.value[n] == t for n in m.ev for t in m.time):\n",
    "            return (m.SoC[n,t-1] + sum(((m.ef*m.Pmax[n]*m.C[n, t]*m.Ts)\\\n",
    "                /(m.Bcap[n])) for n in m.ev for t in m.time)) >= m.SoCf[n]\n",
    "                # OBS m.C[n,t] is from optimization"
   ]
  },
  {
   "attachments": {
    "image.png": {
     "image/png": "[encoded data removed]"
    }
   },
   "cell_type": "markdown",
   "metadata": {},
   "source": [
    "#### 1.8. Degradation Cost:\n",
    "At each timestep \"t\" the degradation cost of each EV \"n\" calculation is performed, since this variable is used to calculate de degradation cost index, which is a coefficient of the objective function. The equation below describes it:\n",
    "![image.png](attachment:image.png)\n",
    "EV characteristics from (data.py) are used, such as maximum power (Pmax), battery capacity (Bcap), SoC and time sample (Ts)."
   ]
  },
  {
   "cell_type": "code",
   "execution_count": null,
   "metadata": {},
   "outputs": [],
   "source": [
    "#--------------Cálculo do custo de degradação do VE \"n\"--------------#            \n",
    "    def _Cdeg(m, n, t):\n",
    "        if (t == m.arr.value[n] for n in m.ev for t in m.time):\n",
    "            return (m.Cdeg[n,t] == m.Cdegi[n] for n in m.ev for t in m.time)\n",
    "        elif (m.a[n,t] is True for n in m.ev for t in m.time):\n",
    "            return m.Cdeg[n,t] == ((-(0.05*(m.Pmax[n]*m.C[n,t])**2)/(0.795\\\n",
    "                                     *m.Bcap[n]))*(((1-m.SoC[n,t]-((m.Pmax[n]/m.Bcap[n])\\\n",
    "                               *m.Ts))**0.795)-((1-m.SoC[n])**0.795)) for n in m.ev for t in m.time)\n",
    "                    # OBS m.C[n,t] is from optimization\n",
    "        else:\n",
    "            return Constraint.Skip"
   ]
  },
  {
   "attachments": {
    "image.png": {
     "image/png": "[encoded data removed]"
    }
   },
   "cell_type": "markdown",
   "metadata": {},
   "source": [
    "### 2. Optimization indexes:\n",
    "\n",
    "#### 2.1. Charging Priority index:\n",
    "The priority index is calculated based on the amaount of energy needed to achive the desired SoC and the time left in the parking lot, as described in the equation below:\n",
    "![image.png](attachment:image.png)\n",
    "If the binary variable is true (which means that the EV is connected), then the charging priority index for EV \"n\" at the current timestep \"t\" is calculated. Otherwise the constraint is skipped."
   ]
  },
  {
   "cell_type": "code",
   "execution_count": null,
   "metadata": {},
   "outputs": [],
   "source": [
    "#--------------------------------------------------------------------#\n",
    "#                   Índices para otimização                          #\n",
    "#--------------------------------------------------------------------#\n",
    "#------------------Cálculo do índice de preferência------------------#              \n",
    "    def _roC(m, n, t):\n",
    "        if (m.a[n,t] is True for n in m.ev for t in m.time):\n",
    "            return m.roC == ((m.Bcap[n]*(m.SoCf[n]-m.SoC[n,t]))/(m.Pmax[n]*\\\n",
    "                                (m.dep[n]-t)*m.Ts) for n in m.ev for t in m.time)\n",
    "        else:\n",
    "            return Constraint.Skip"
   ]
  },
  {
   "attachments": {
    "image.png": {
     "image/png": "[encoded data removed]"
    }
   },
   "cell_type": "markdown",
   "metadata": {},
   "source": [
    "#### 2.2. Degradation Cost index:\n",
    "Based on maximum, minimum and current degradation cost of each EV \"n\", the degradation cost index is calculated as described by the equation below:\n",
    "![image.png](attachment:image.png)"
   ]
  },
  {
   "cell_type": "code",
   "execution_count": null,
   "metadata": {},
   "outputs": [],
   "source": [
    "#------------------Cálculo do índice de degradação------------------#\n",
    "    def _yC(m, n, t):\n",
    "        if (m.a[n,t] is True for n in m.ev for t in m.time):\n",
    "            return m.yC[n,t] == (((m.Cdeg_max[n]-m.Cdeg[n,t])\\\n",
    "                           /(m.Cdeg_max[n]-m.Cdeg_min[n])) for n in m.ev for t in m.time)\n",
    "        else:\n",
    "            return Constraint.Skip"
   ]
  },
  {
   "cell_type": "code",
   "execution_count": null,
   "metadata": {},
   "outputs": [],
   "source": [
    "            self.Cdeg_min = Constraint(self.ev,             rule=_Cdeg_min, doc='Minimum degradation cost')\n",
    "            self.Cdeg_max = Constraint(self.ev,             rule=_Cdeg_max, doc='Maximum degradation cost')\n",
    "            self.Cdegi    = Constraint(self.ev,             rule=_Cdegi,    doc='Initial degradation cost')\n",
    "            self.a        = Constraint(self.ev, self.time,  rule=alpha,     doc='Connection status (binary)')\n",
    "            self.C        = Constraint(self.ev, self.time,  rule=_C,        doc='Charging rate constraint')\n",
    "            self.Pmax_EV  = Constraint(self.ev, self.time,  rule=_Pmax_EV,  doc='Maximum EV power')\n",
    "            self.SoC      = Constraint(self.ev, self.time,  rule=_SoC,      doc='State os Charge (SoC)')\n",
    "            self.SoC_max  = Constraint(self.ev, self.time,  rule=_SoC_max,  doc='Maximum SoC')\n",
    "            self.SoC_min  = Constraint(self.ev, self.time,  rule=_SoC_min,  doc='Minimum SoC')\n",
    "            self.SoC_dep  = Constraint(self.ev, self.time,  rule=_SoC_dep,  doc='Departure time SoC')\n",
    "            self.Cdeg     = Constraint(self.ev, self.time,  rule=_Cdeg,     doc='Degradation cost')\n",
    "            self.yC       = Constraint(self.ev, self.time,  rule=_yC,       doc='Degradation cost index')\n",
    "            self.roC      = Constraint(self.ev, self.time,  rule=_roC,      doc='Charging preference index')"
   ]
  }
 ],
 "metadata": {
  "kernelspec": {
   "display_name": "Python 3",
   "language": "python",
   "name": "python3"
  },
  "language_info": {
   "codemirror_mode": {
    "name": "ipython",
    "version": 3
   },
   "file_extension": ".py",
   "mimetype": "text/x-python",
   "name": "python",
   "nbconvert_exporter": "python",
   "pygments_lexer": "ipython3",
   "version": "3.7.4"
  }
 },
 "nbformat": 4,
 "nbformat_minor": 4
}

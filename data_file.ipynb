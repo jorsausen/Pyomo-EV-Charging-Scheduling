{
 "cells": [
  {
   "cell_type": "markdown",
   "metadata": {},
   "source": [
    "# Data file\n",
    "\n",
    "Data file with inputs for optimization.\n",
    "\n",
    "## Reading .csv file\n",
    "\n",
    "Data stored on a .csv file must be read. Initially the pandas module is imported and two files are read.\n",
    "\n",
    "    1. Time and tariff;\n",
    "    2. Electric vehicles characteristics\n",
    "\n",
    "The first file contains the time horizon (0,288) and the tariff relative to each time indice. The secon file contains the characteristics of EVs, such as Battery Capacity, Maximum acceptable power, initial and final State of Charge and arrival and departure times."
   ]
  },
  {
   "cell_type": "code",
   "execution_count": 44,
   "metadata": {
    "scrolled": true
   },
   "outputs": [],
   "source": [
    "# -*- coding: utf-8 -*-\n",
    "\"\"\"\n",
    "Created on Tue Jul 28 11:35:01 2020\n",
    "\n",
    "@author: Jordan Sausen\n",
    "\n",
    "Data\n",
    "\n",
    "\"\"\"\n",
    "import pandas as pd\n",
    "\n",
    "df_1 = pd.read_csv('time_tff_data.csv', sep=';', usecols=['time', 'tff'], index_col='time', header=0)\n",
    "df_2 = pd.read_csv('ev_data.csv', sep=';', index_col='ev', header=0)"
   ]
  },
  {
   "cell_type": "markdown",
   "metadata": {},
   "source": [
    "### Data dictionaries:\n",
    "\n",
    "The next part of the code indicates the dictionary of each optimization Block (EV, Tariff and PL):"
   ]
  },
  {
   "cell_type": "code",
   "execution_count": 45,
   "metadata": {},
   "outputs": [],
   "source": [
    "data_EV = {\n",
    "    #'time':     {None: df_1['time'].to_dict()},             # Set of time (5 min resolution for 24h = 288 points)\n",
    "    #'ev':       {None: df_2['ev'].to_dict()},               # Set of EVs (5 Evs for simplification purposes)\n",
    "    'Bcap':     {'ev': df_2['Bcap'].to_dict()},             # Battery capacity of each EV (kWh)\n",
    "    'Pmax':     {'ev': df_2['Pmax'].to_dict()},             # Maximum charging power (kW)\n",
    "    'SoCi':     {'ev': df_2['SoCi'].to_dict()},             # Initial State of Charge (%)\n",
    "    'SoCf':     {'ev': df_2['SoCf'].to_dict()},             # Final State of Charge (%)\n",
    "    'arr':      {'ev': df_2['arr'].to_dict()},              # Arrival time of each EV (5 min resolution)\n",
    "    'dep':      {'ev': df_2['dep'].to_dict()},              # Departure time of each EV (5 min resolution)\n",
    "    'ef':       {None: 0.95},                               # Charging efficiency (%)\n",
    "    'Ts':       {None: 0.0833}                              # Time sample (h)\n",
    "    }\n",
    "    \n",
    "data_Tariff = {\n",
    "    #'time':     {None: df_1['time'].to_dict()},             # Set of time (5 min resolution for 24h)\n",
    "    'tff':      {'time': df_1['tff'].to_dict()}               # Set of tariff prices\n",
    "    }                       \n",
    "    \n",
    "data_PL = {\n",
    "    #'time':     {None: df_1['time'].to_dict()},             # Set of time (5 min resolution for 24h)\n",
    "    #'ev':       {None: df_2['ev'].to_dict()},               # Set of EVs\n",
    "    'Pmax':     {'ev': df_2['Pmax'].to_dict()},             # Maximum charging power of each EV (kW)\n",
    "    'Pmax_grid':{None: 11.10},                              # Maximum grid power (7,4 + 3,7 kW = 2 EVs per time) - to simulate limitation of distribution transformer\n",
    "    }\n",
    "\n",
    "data = {None: dict( EV      = data_EV,\n",
    "                    PL      = data_PL,\n",
    "                    tariff  = data_Tariff)}"
   ]
  },
  {
   "cell_type": "code",
   "execution_count": null,
   "metadata": {},
   "outputs": [],
   "source": []
  }
 ],
 "metadata": {
  "kernelspec": {
   "display_name": "Python 3",
   "language": "python",
   "name": "python3"
  },
  "language_info": {
   "codemirror_mode": {
    "name": "ipython",
    "version": 3
   },
   "file_extension": ".py",
   "mimetype": "text/x-python",
   "name": "python",
   "nbconvert_exporter": "python",
   "pygments_lexer": "ipython3",
   "version": "3.7.4"
  }
 },
 "nbformat": 4,
 "nbformat_minor": 4
}

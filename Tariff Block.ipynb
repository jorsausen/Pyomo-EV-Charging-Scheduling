{
 "cells": [
  {
   "cell_type": "markdown",
   "metadata": {},
   "source": [
    "## Tariff Block:\n",
    "This class defines parameters and variables related to the Time of Use Tariff adopted for optimization.\n",
    "    \n",
    "The tariff priority index calculation is done through Constraint declaration."
   ]
  },
  {
   "cell_type": "code",
   "execution_count": 5,
   "metadata": {},
   "outputs": [],
   "source": [
    "from pyomo.environ import *\n",
    "\n",
    "#m.time    = Set(initialize=(0,288))\n",
    "\n",
    "class tariff:\n",
    "       \n",
    "    def __init__(self, *args, **kwds):\n",
    "        \n",
    "        self.Tmax   = Param(self.time, default=Tmax, doc='Maximum tariff price',  multable=True)\n",
    "        self.Tmin   = Param(self.time, default=Tmin, doc='Minimum tariff price',  multable=True)\n",
    "        self.tff    = Param(self.time, default=tff,  doc='Set of tariff prices',  mutable=True)\n",
    "        self.Tc     = Var  (self.time,               doc='Tariff priority index', initialize=0)\n",
    "        \n",
    "    def _Tc(m, t):\n",
    "        if tff is not None:\n",
    "            return (m.Tc[t] == (m.Tmax-m.tff[t])/(m.Tmax-m.Tmin) for t in m.time)\n",
    "        return Constraint.Skip\n",
    "    \n",
    "        self.Tc = Constraint(self.time, rule=_Tc, doc='Tariff priority index')       "
   ]
  },
  {
   "cell_type": "code",
   "execution_count": null,
   "metadata": {},
   "outputs": [],
   "source": []
  }
 ],
 "metadata": {
  "kernelspec": {
   "display_name": "Python 3",
   "language": "python",
   "name": "python3"
  },
  "language_info": {
   "codemirror_mode": {
    "name": "ipython",
    "version": 3
   },
   "file_extension": ".py",
   "mimetype": "text/x-python",
   "name": "python",
   "nbconvert_exporter": "python",
   "pygments_lexer": "ipython3",
   "version": "3.7.4"
  }
 },
 "nbformat": 4,
 "nbformat_minor": 4
}

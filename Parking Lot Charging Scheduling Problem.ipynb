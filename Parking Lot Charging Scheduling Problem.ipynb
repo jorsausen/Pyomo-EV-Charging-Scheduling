{
 "cells": [
  {
   "cell_type": "markdown",
   "metadata": {},
   "source": [
    "# Electric Vehicle Charging Scheduling Problem\n",
    "\n",
    "  This problem adresses the charging scheduling of 5 Electric Vehicles (EVs) in a Parking Lot (PL). It is assumed a time horizon of 24 hours, with 5 minutes resolution, totalling 288 points in a day. \n",
    "  \n",
    "### 1. Parking Lot Block:  \n",
    "  Initially, the main block model a PL with EV chargers. This modelling is based in two indexed sets: 'time' and 'ev'. Each variable calculated during the optimization will be indexed by these sets. It means that at each timestep, and for each EV, the problem needs to calculate some parameters and variables.\n",
    "\n",
    "    'time' = (0,288) -> Time horizon\n",
    "    'ev'   = (0,5)   -> 5 EVs\n",
    "  \n",
    "#### 1.1. PL Variables:\n",
    "  Two variables will be defined by optimization:\n",
    "    1. Power bought from the grid (Pc_grid[t]) - The amount of power (kW) requested from the grid at aeach timestep [t];\n",
    "    2. Charging rate of each EV charging (C[n,t]) - Charging rate (kW) provided for each EV [n] at each timestep [t].\n",
    "    \n",
    "  Thus, is necessary to model the EVs, with battery characteristics and users' preferences, and tariff signals, based on Time of Use tariff prices. This way, the Parking Lot main block needs to import two other blocks and a data file: \n",
    "    1. EV () - for electric vehicles constraints modelling;\n",
    "    2. Tariff () - for tariff constraint modelling;\n",
    "    3. data (for data input).\n",
    "    \n"
   ]
  },
  {
   "cell_type": "code",
   "execution_count": null,
   "metadata": {},
   "outputs": [],
   "source": [
    "from pyomo.environ import *\n",
    "\n",
    "m = AbstractModel()\n",
    "m.time    = Set(initialize=(0,288))\n",
    "m.ev      = Set(initialize=(0,5))\n",
    "\n",
    "m.Pc_grid = Var(m.time,       within=PositiveReals)   # Power bought from grid (defined by optimization) for each timestep\n",
    "m.C       = Var(m.ev, m.time, bounds=(0,1))           # Charging rate (Decision variable) with respect to 'time' and 'ev' -> C[n,t]\n",
    "\n",
    "from EVs import EV\n",
    "m.EV = EV()                 # EV Class\n",
    "\n",
    "from Tariff import tariff\n",
    "m.tariff = tariff()         # Tariff Class "
   ]
  },
  {
   "cell_type": "markdown",
   "metadata": {},
   "source": [
    "#### 1.2. PL Global Constraints:\n",
    "Two global constraints are defined to guarantee the PL power balance and impose power limitations for the distribution transformer. For the latter, is considered a limitation of two EV simultaneously charging, since 5 EVs are adopted for simplification purposes.\n",
    "\n",
    "    Pmax_grid = 11.10 kW -> Defined in data file (data.py)"
   ]
  },
  {
   "cell_type": "code",
   "execution_count": null,
   "metadata": {},
   "outputs": [],
   "source": [
    "@m.Constraint(m.time)\n",
    "def transformer(m, t):\n",
    "    return (Pc_grid[t] <= Pmax_grid for t in m.time)\n",
    "\n",
    "@m.Constraint(m.time)\n",
    "def power_balance(m, t):\n",
    "    return sum((m.C[n,t]*m.Pmax[n] for n in m.ev) == Pc_grid[t] for t in m.time)"
   ]
  },
  {
   "attachments": {
    "image.png": {
     "image/png": "[encoded data removed]"
    }
   },
   "cell_type": "markdown",
   "metadata": {},
   "source": [
    "#### 1.3. Objective Function:\n",
    "\n",
    "![image.png](attachment:image.png)\n",
    "\n",
    "The objective function aims to maximize the carging rate (C[n,t]) of each EV \"n\" at each timestep \"t\", considering a few coefficients:\n",
    "    1. a[n,t]:   Binary variable - indicates the status of each EV (1 if it is connected; 0 otherwise);\n",
    "    2. C[n,t]:   Decision variable - charging rate of each EV \"n\" at each timestep \"t\";\n",
    "    3. Pmax[n]:  Maximum EV power - from data input for each EV \"n\"\n",
    "    4. roC[n,t]: Charging priority index - calculated via Constraint declaration on EV Block;\n",
    "    5. yC[n,t]:  Battery degradation priority index - calculated via Constraint declaration on EV Block;\n",
    "    6. tC[t]:    Tariff priority index - calculated via Constraint declaration on Tariff Block;\n",
    "    \n"
   ]
  },
  {
   "cell_type": "code",
   "execution_count": null,
   "metadata": {},
   "outputs": [],
   "source": [
    "def obj_rule (m, n, t):\n",
    "    return sum(m.a[n,t]*m.C[n,t]*m.Pmax[n]*m.yC[n,t]*m.roC[n,t]*m.tC[t] for n in m.ev for t in m.time)\n",
    "m.obj = Objective(rule=obj_rule, sense=maximize)"
   ]
  },
  {
   "cell_type": "markdown",
   "metadata": {},
   "source": [
    "#### 1.4. Problem Instance\n",
    "Create an instance of the problem "
   ]
  },
  {
   "cell_type": "code",
   "execution_count": null,
   "metadata": {},
   "outputs": [],
   "source": [
    "inst = m.create_instance(data.py)"
   ]
  },
  {
   "cell_type": "markdown",
   "metadata": {},
   "source": [
    "#### 1.5. Problem Solving\n",
    "To solve the problem"
   ]
  },
  {
   "cell_type": "code",
   "execution_count": null,
   "metadata": {},
   "outputs": [],
   "source": [
    "opt = SolverFactory(\"clc\")                 # See what solver to use\n",
    "\n",
    "res = opt.solve(inst, load_solutions=True)"
   ]
  }
 ],
 "metadata": {
  "kernelspec": {
   "display_name": "Python 3",
   "language": "python",
   "name": "python3"
  },
  "language_info": {
   "codemirror_mode": {
    "name": "ipython",
    "version": 3
   },
   "file_extension": ".py",
   "mimetype": "text/x-python",
   "name": "python",
   "nbconvert_exporter": "python",
   "pygments_lexer": "ipython3",
   "version": "3.7.4"
  }
 },
 "nbformat": 4,
 "nbformat_minor": 4
}
